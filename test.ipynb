{
 "cells": [
  {
   "cell_type": "code",
   "execution_count": 2,
   "id": "130a89dd",
   "metadata": {},
   "outputs": [
    {
     "name": "stdout",
     "output_type": "stream",
     "text": [
      "R^2 Score: 0.8584464768106042\n"
     ]
    }
   ],
   "source": [
    "import pandas as pd\n",
    "import numpy as np\n",
    "import matplotlib.pyplot as plt\n",
    "import seaborn as sns\n",
    "\n",
    "# Load the dataset\n",
    "df = pd.read_csv('Cars.csv')\n",
    "\n",
    "# Data Cleaning and Preprocessing\n",
    "\n",
    "## Handle missing values\n",
    "df.dropna(subset=['seats'], inplace=True)\n",
    "\n",
    "## Clean 'mileage' column\n",
    "df['mileage'] = df['mileage'].str.replace(' kmpl', '').str.replace(' km/kg', '').astype(float)\n",
    "\n",
    "## Clean 'engine' column\n",
    "df['engine'] = df['engine'].str.replace(' CC', '').astype(float)\n",
    "\n",
    "## Clean 'max_power' column\n",
    "df['max_power'] = df['max_power'].str.replace(' bhp', '')\n",
    "df['max_power'] = pd.to_numeric(df['max_power'], errors='coerce')\n",
    "df.dropna(subset=['max_power'], inplace=True)\n",
    "\n",
    "## Convert 'owner' column to numerical\n",
    "owner_mapping = {\n",
    "    'First Owner': 1,\n",
    "    'Second Owner': 2,\n",
    "    'Third Owner': 3,\n",
    "    'Fourth & Above Owner': 4,\n",
    "    'Test Drive Car': 0\n",
    "}\n",
    "df['owner'] = df['owner'].map(owner_mapping)\n",
    "\n",
    "## Convert categorical columns to numerical using one-hot encoding\n",
    "df = pd.get_dummies(df, columns=['fuel', 'seller_type', 'transmission'], drop_first=True)\n",
    "\n",
    "## Define features and target\n",
    "features = ['year', 'km_driven', 'owner', 'mileage', 'engine', 'max_power', 'seats',\n",
    "            'fuel_Diesel', 'fuel_Petrol', 'fuel_LPG',\n",
    "            'seller_type_Individual', 'seller_type_Trustmark Dealer',\n",
    "            'transmission_Manual']\n",
    "target = 'selling_price'\n",
    "\n",
    "# Handle missing columns in one-hot encoding\n",
    "for feature in ['fuel_Diesel', 'fuel_Petrol', 'fuel_LPG']:\n",
    "    if feature not in df.columns:\n",
    "        df[feature] = 0\n",
    "\n",
    "X = df[features]\n",
    "y = np.log(df[target])\n",
    "\n",
    "# Model Training (example with Linear Regression)\n",
    "from sklearn.model_selection import train_test_split\n",
    "from sklearn.linear_model import LinearRegression\n",
    "from sklearn.metrics import r2_score\n",
    "\n",
    "X_train, X_test, y_train, y_test = train_test_split(X, y, test_size=0.2, random_state=42)\n",
    "\n",
    "model = LinearRegression()\n",
    "model.fit(X_train, y_train)\n",
    "\n",
    "y_pred = model.predict(X_test)\n",
    "r2 = r2_score(y_test, y_pred)\n",
    "print(f'R^2 Score: {r2}')\n"
   ]
  }
 ],
 "metadata": {
  "kernelspec": {
   "display_name": "base",
   "language": "python",
   "name": "python3"
  },
  "language_info": {
   "codemirror_mode": {
    "name": "ipython",
    "version": 3
   },
   "file_extension": ".py",
   "mimetype": "text/x-python",
   "name": "python",
   "nbconvert_exporter": "python",
   "pygments_lexer": "ipython3",
   "version": "3.12.7"
  }
 },
 "nbformat": 4,
 "nbformat_minor": 5
}
